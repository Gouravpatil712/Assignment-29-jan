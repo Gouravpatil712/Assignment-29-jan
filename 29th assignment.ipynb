{
 "cells": [
  {
   "cell_type": "markdown",
   "id": "8587fc1c-3c31-4615-927e-39160b1e57eb",
   "metadata": {},
   "source": [
    "Question 01 - Who developed Python Programming Language ?\n",
    "\n",
    "Answer - Python is a High Programming Language. It was started to be developed in February 20, 1991 by Guido Van Rossum in Amsterdam. It is used in many fields, such as data science, AI, web programming, Etc."
   ]
  },
  {
   "cell_type": "markdown",
   "id": "3feb763e-5df2-41d6-9f2d-25859e1ce238",
   "metadata": {},
   "source": [
    "Questio 02 - Which type of Programming does Python supports ?\n",
    "\n",
    "Answer - Python is a multi-paradigm programming language. It support object-oriented, structured, and functional programming. Python combines remarkable power with very clear syntax. It has interfaces to many system calls and libraries, as well as to various window systems, and is extensible in C or C++."
   ]
  },
  {
   "cell_type": "markdown",
   "id": "21938d0e-569a-43b4-b7e5-e705930b2cc4",
   "metadata": {},
   "source": [
    "Question 03 - Is Python case sensitive when dealing with identifiers ?\n",
    "\n",
    "Answer - Yes, Python is a case-sensitive language. It treats uppercase and lowercase characters differently. This applies on identifiers also. In Python we must avoid using the same name with different cases while naming identifiers"
   ]
  },
  {
   "cell_type": "markdown",
   "id": "44dfbf11-e25b-4917-8c09-e1b492510a44",
   "metadata": {},
   "source": [
    "Question 04 - What is the correct extension of the python file ?\n",
    "\n",
    "Answer -  The file with the .py extension contain the python source code."
   ]
  },
  {
   "cell_type": "markdown",
   "id": "91f7e3f0-9841-4bbe-82d0-93c04d24f4c5",
   "metadata": {},
   "source": [
    "Question 05 -  Is Python code compiled or interpreted ?\n",
    "\n",
    "Answer - Python is an interpreted language, which means the source code of a Python program is converted into bytecode that is then executed by the Python virtual machine. Python is different from major compiled languages, such as C and C++, as Python code is not required to be built and linked like code for these languages."
   ]
  },
  {
   "cell_type": "markdown",
   "id": "32f161af-eb22-44d1-8c5d-a783f0ffb6f0",
   "metadata": {},
   "source": [
    "Question 06 - Name a few blocks of code used to define in Python language ?\n",
    "\n",
    "Answer - "
   ]
  },
  {
   "cell_type": "markdown",
   "id": "530b334a-0a79-42c8-b623-f0608a263cbc",
   "metadata": {},
   "source": [
    "Question 07 - State a character used to give a single-line comment in Python ?\n",
    "\n",
    "Answer - Hash character (#) is used to give a single-line comment in Python. Comments does not have to be text to explain thr code, it can also be used to prevent Python from executing code. The hash character should be placed before the line to be commented."
   ]
  },
  {
   "cell_type": "markdown",
   "id": "10a7a9c1-9d8a-493b-b330-7f214508fef7",
   "metadata": {},
   "source": [
    "Question 08 - Mention the function which can help us to find version of Python that we can currently working on ?\n",
    "\n",
    "Answer - The function sys. version can help us to find the version of python that we are currently working on. \n",
    "It also contains information on the build number and compiler used."
   ]
  },
  {
   "cell_type": "markdown",
   "id": "9829daf7-c02c-454b-9fec-65e42f476c11",
   "metadata": {},
   "source": [
    "Question 09 - Python supports the creation of anonymous function at runtime, using construct called ____?\n",
    "\n",
    "Answer - Python supports the creation of anonymous functions (functions that are not bound to a name) at runtime, using a construct called lambda."
   ]
  },
  {
   "cell_type": "markdown",
   "id": "6e91fbcf-6785-4d9d-9c36-c161c7952a17",
   "metadata": {},
   "source": [
    "Question 10 - What does pip stands for Python ?\n",
    "\n",
    "Answer - PIP is a package management system used to install and manage software packages written in Python. It stands for Preferred Installer Program or Pip Installs Packages. Pip for Python is a utility to manage PyPI package installations from the command line. "
   ]
  },
  {
   "cell_type": "markdown",
   "id": "da3426a6-1654-4112-a9d2-44431ae64328",
   "metadata": {},
   "source": [
    "Question 11 - Mention a few built-inn functions in Python ?\n",
    "\n",
    "Answer - Here, are some built-in functions in python\n",
    "1.print()\n",
    "2.len()\n",
    "3.int()\n",
    "4.str()\n",
    "5.type()\n",
    "6.sum()\n",
    "7.range()\n",
    "8.min()\n",
    "9.max()\n",
    "10.sort()\n",
    "11.reversed()\n",
    "12.append()\n",
    "13.extend()\n",
    "14.index()\n",
    "15.remove()"
   ]
  },
  {
   "cell_type": "markdown",
   "id": "9586c594-bda8-4665-874c-20c581497cbc",
   "metadata": {},
   "source": [
    "Question 12 - What is the maximum possible length of an identifire in Python ?\n",
    "\n",
    "Answer -  Identifier can have a maximum length of 79 characters in Python.There is no strict limit to the maximum length of an identifier in Python. However, it is recommended to keep the length of an identifier to a reasonable limit for readability and maintainability purposes. The Python style guide (PEP 8) suggests that the maximum length of an identifier should be around 79 characters."
   ]
  },
  {
   "cell_type": "markdown",
   "id": "13c796ec-a7ab-45b2-a108-307711296fff",
   "metadata": {},
   "source": [
    "Question 13 - What is the benefits of using Python ?\n",
    "\n",
    "Answer - Easy to learn and use Python has a simple and straightforward syntax, making it an ideal language for beginners.  Python is used for a wide range of applications, including web development, scientific computing, data analysis, artificial intelligence, and more. Large community, Python has a huge user community, which means you'll find a lot of resources for learning, solving problems, and getting help.  Python has a large number of libraries, including NumPy, Pandas, Matplotlib, TensorFlow, and more, that can be used to perform various tasks. In Python, you don't have to declare the type of a variable when you create it. This makes it easier to write flexible code that can handle different data types. Python can be integrated with other programming languages, such as C and Java, and can also be used to control other applications, such as Microsoft Office.\n",
    "Good Performance: Despite being an interpreted language, Python has good performance, especially when used with optimized libraries and tools."
   ]
  },
  {
   "cell_type": "markdown",
   "id": "92454d0e-5d9e-48e7-9e15-d40de2f14237",
   "metadata": {},
   "source": [
    "Question 14 - How is memory managed in Python ?\n",
    "\n",
    "Answer - Memory management in Python involves a private heap containing all Python objects and data structures. The management of this private heap is ensured internally by the Python memory manager.Memory management in Python is handled automatically by the Python memory manager through reference counting and garbage collection. The memory manager keeps track of the number of references to objects in memory and frees up memory occupied by objects that are no longer being used. This results in a convenient, high-level, and dynamic memory management system that requires minimal effort from the programmer."
   ]
  },
  {
   "cell_type": "markdown",
   "id": "cfd90856-befd-4e34-bae4-badd4befaabf",
   "metadata": {},
   "source": [
    "Question 15 - How to install Python on windows and  set path  variables ?\n",
    "\n",
    "Answer - Step 01 - Download the latest version of Python for Windows.\n",
    "\n",
    "Step 02 - Double-click on the downloaded .exe file and run the installer. Follow the on-screen instructions to complete the installation process.\n",
    "\n",
    "Set the Path Variable.\n",
    "\n",
    "A. Open the Start menu and search for Environment Variables or \n",
    "/B. Click on Edit the system environment variables.\n",
    "/C. In the System Properties window, click on the \"Environment Variables\" button.\n",
    "/D. Under \"System Variables\", scroll down and find the \"Path\" variable, then click on \"Edit\".\n",
    "/E. Click on \"New\" and add the path to the Python installation directory.\n",
    "/F. Click OK to save the changes and close all windows."
   ]
  },
  {
   "cell_type": "markdown",
   "id": "cd7c7def-aa57-4f8e-84a0-da73d48aac1a",
   "metadata": {},
   "source": [
    "Question 16 - Is indentation required in Python ?\n",
    "\n",
    "Answer - Yes, indentation is required in Python. Indentation is used to define blocks of code, such as loops and functions. In Python, indentation is used instead of braces or keywords to delimit blocks of code, and is crucial to the syntax and structure of the language.\n",
    "\n",
    "For example\n",
    "\n",
    "for i in range(10):\n",
    "    print(i)\n",
    "    \n",
    "In this code, the print statement is indented, which indicates that it is part of the loop block. If the indentation was removed, the code would not work as intended and would result in a syntax error."
   ]
  },
  {
   "cell_type": "code",
   "execution_count": null,
   "id": "4683ead6-5c2e-45b3-8f4f-f8264120c9cf",
   "metadata": {},
   "outputs": [],
   "source": []
  }
 ],
 "metadata": {
  "kernelspec": {
   "display_name": "Python 3 (ipykernel)",
   "language": "python",
   "name": "python3"
  },
  "language_info": {
   "codemirror_mode": {
    "name": "ipython",
    "version": 3
   },
   "file_extension": ".py",
   "mimetype": "text/x-python",
   "name": "python",
   "nbconvert_exporter": "python",
   "pygments_lexer": "ipython3",
   "version": "3.10.8"
  }
 },
 "nbformat": 4,
 "nbformat_minor": 5
}
